{
 "cells": [
  {
   "cell_type": "markdown",
   "metadata": {},
   "source": [
    "# Intro to Bayesian Statistics Lab\n",
    "\n",
    "Complete the following set of exercises to solidify your knowledge of Bayesian statistics and Bayesian data analysis."
   ]
  },
  {
   "cell_type": "code",
   "execution_count": 1,
   "metadata": {
    "ExecuteTime": {
     "end_time": "2020-03-23T12:41:50.101529Z",
     "start_time": "2020-03-23T12:41:49.075449Z"
    }
   },
   "outputs": [],
   "source": [
    "import pandas as pd\n",
    "import numpy as np\n",
    "import matplotlib.pyplot as plt\n",
    "import scipy.stats as stats\n"
   ]
  },
  {
   "cell_type": "markdown",
   "metadata": {},
   "source": [
    "## 1. Cookie Problem\n",
    "\n",
    "Suppose we have two bowls of cookies. Bowl 1 contains 30 vanilla cookies and 10 chocolate cookies. Bowl 2 contains 20 of each. You randomly pick one cookie out of one of the bowls, and it is vanilla. Use Bayes Theorem to calculate the probability that the vanilla cookie you picked came from Bowl 1?"
   ]
  },
  {
   "cell_type": "code",
   "execution_count": 2,
   "metadata": {
    "ExecuteTime": {
     "end_time": "2020-03-23T12:41:50.116633Z",
     "start_time": "2020-03-23T12:41:50.101529Z"
    }
   },
   "outputs": [
    {
     "data": {
      "text/plain": [
       "array([0.6, 0.4])"
      ]
     },
     "execution_count": 2,
     "metadata": {},
     "output_type": "execute_result"
    }
   ],
   "source": [
    "#Bowl 1 contains 30 vanilla cookies and 10 chocolate cookies\n",
    "#Bowl 1 contains 20 vanilla cookies and 20 chocolate cookies\n",
    "\n",
    "#we would need to know what our prior probabilities were and our likelihoods\n",
    "\n",
    "#prior probabilities\n",
    "priors = [1/2, 1/2]\n",
    "\n",
    "#prior likelihoods: The likelihoods - the percentages of vanilla in each bowl\n",
    "likelihoods = [0.75, 0.5]\n",
    "\n",
    "np.multiply(priors, likelihoods)\n",
    "\n",
    "#Function will compute the marginal (marg) and then use Bayes' Theorem to calculate the posterior probabilities \n",
    "#for the each of the hypotheses (post):\n",
    "def bayes_theorem(priors, likelihoods):\n",
    "    marg = sum(np.multiply(priors, likelihoods))\n",
    "    return np.divide(np.multiply(priors, likelihoods), marg)\n",
    "\n",
    "bayes_theorem(priors, likelihoods)\n",
    "\n",
    "#From these results, we can see that there is a 60% chance that the vanilla we drew came from Bowl 1\n",
    "#a 40% chance that it came from Bowl 2"
   ]
  },
  {
   "cell_type": "markdown",
   "metadata": {},
   "source": [
    "What is the probability that it came from Bowl 2?"
   ]
  },
  {
   "cell_type": "code",
   "execution_count": 3,
   "metadata": {
    "ExecuteTime": {
     "end_time": "2020-03-23T12:41:50.127602Z",
     "start_time": "2020-03-23T12:41:50.118627Z"
    }
   },
   "outputs": [],
   "source": [
    "#code above, 40%"
   ]
  },
  {
   "cell_type": "markdown",
   "metadata": {},
   "source": [
    "What if the cookie you had picked was chocolate? What are the probabilities that the chocolate cookie came from Bowl 1 and Bowl 2 respectively?"
   ]
  },
  {
   "cell_type": "code",
   "execution_count": 4,
   "metadata": {
    "ExecuteTime": {
     "end_time": "2020-03-23T12:41:50.134584Z",
     "start_time": "2020-03-23T12:41:50.128599Z"
    }
   },
   "outputs": [
    {
     "data": {
      "text/plain": [
       "array([0.33333333, 0.66666667])"
      ]
     },
     "execution_count": 4,
     "metadata": {},
     "output_type": "execute_result"
    }
   ],
   "source": [
    "#prior probabilities\n",
    "priors = [1/2, 1/2]\n",
    "\n",
    "#prior likelihoods: The likelihoods - the percentages of vanilla in each bowl\n",
    "likelihoods = [0.25, 0.5]\n",
    "\n",
    "#Function will compute the marginal (marg) and then use Bayes' Theorem to calculate the posterior probabilities \n",
    "#for the each of the hypotheses (post):\n",
    "def bayes_theorem(priors, likelihoods):\n",
    "    marg = sum(np.multiply(priors, likelihoods))\n",
    "    return np.divide(np.multiply(priors, likelihoods), marg)\n",
    "\n",
    "bayes_theorem(priors, likelihoods)\n",
    "\n",
    "#From these results, we can see that there is a 33% chance that the chocolate we drew came from Bowl 1\n",
    "#a 66% chance that it came from Bowl 2"
   ]
  },
  {
   "cell_type": "markdown",
   "metadata": {},
   "source": [
    "## 2. Candy Problem\n",
    "\n",
    "Suppose you have two bags of candies:\n",
    "\n",
    "- In Bag 1, the mix of colors is:\n",
    "    - Brown - 30%\n",
    "    - Yellow - 20%\n",
    "    - Red - 20%\n",
    "    - Green - 10%\n",
    "    - Orange - 10%\n",
    "    - Tan - 10%\n",
    "    \n",
    "- In Bag 2, the mix of colors is:\n",
    "    - Blue - 24%\n",
    "    - Green - 20%\n",
    "    - Orange - 16%\n",
    "    - Yellow - 14%\n",
    "    - Red - 13%\n",
    "    - Brown - 13%\n",
    "    \n",
    "Not knowing which bag is which, you randomly draw one candy from each bag. One is yellow and one is green. What is the probability that the yellow one came from the Bag 1?\n",
    "\n",
    "*Hint: For the likelihoods, you will need to multiply the probabilities of drawing yellow from one bag and green from the other bag and vice versa.*"
   ]
  },
  {
   "cell_type": "code",
   "execution_count": 5,
   "metadata": {
    "ExecuteTime": {
     "end_time": "2020-03-23T12:41:50.141567Z",
     "start_time": "2020-03-23T12:41:50.135581Z"
    }
   },
   "outputs": [
    {
     "data": {
      "text/plain": [
       "array([0.74074074, 0.25925926])"
      ]
     },
     "execution_count": 5,
     "metadata": {},
     "output_type": "execute_result"
    }
   ],
   "source": [
    "#prior probabilities\n",
    "priors = [1/2, 1/2]\n",
    "\n",
    "#prior likelihoods\n",
    "likelihoods = [0.04, 0.014] # multiply the probabilities of yellow from bag1 and bag2 AND green from bag1 and bag2\n",
    "#yellow from bag1, green from bag2 = 0.2*0.2 = 0.04\n",
    "#yellow from bag2, green from bag1 = 0.14*0.10 = 0.014\n",
    "\n",
    "#Function will compute the marginal (marg) and then use Bayes' Theorem to calculate the posterior probabilities \n",
    "#for the each of the hypotheses (post):\n",
    "def bayes_theorem(priors, likelihoods):\n",
    "    marg = sum(np.multiply(priors, likelihoods))\n",
    "    return np.divide(np.multiply(priors, likelihoods), marg)\n",
    "\n",
    "bayes_theorem(priors, likelihoods)\n",
    "\n",
    "#From these results, we can see that there is a 74% chance that the yellow is from bag1 (and green from bag2)"
   ]
  },
  {
   "cell_type": "markdown",
   "metadata": {},
   "source": [
    "What is the probability that the yellow candy came from Bag 2?"
   ]
  },
  {
   "cell_type": "code",
   "execution_count": 6,
   "metadata": {
    "ExecuteTime": {
     "end_time": "2020-03-23T12:41:50.146553Z",
     "start_time": "2020-03-23T12:41:50.143561Z"
    }
   },
   "outputs": [],
   "source": [
    "#code above\n",
    "#From these results, we can see that there is a 25.9% chance that the yellow is from bag2 (and green from bag1)"
   ]
  },
  {
   "cell_type": "markdown",
   "metadata": {},
   "source": [
    "What are the probabilities that the green one came from Bag 1 and Bag 2 respectively?"
   ]
  },
  {
   "cell_type": "code",
   "execution_count": 7,
   "metadata": {
    "ExecuteTime": {
     "end_time": "2020-03-23T12:41:50.152536Z",
     "start_time": "2020-03-23T12:41:50.147549Z"
    }
   },
   "outputs": [],
   "source": [
    "#the probabilitie that the green one came from Bag 1 (yellow from Bag 2) = 25.9%\n",
    "#the probabilitie that the green one came from Bag 2 (yellow from Bag 1) = 74%"
   ]
  },
  {
   "cell_type": "markdown",
   "metadata": {},
   "source": [
    "## 3. Monty Hall Problem\n",
    "\n",
    "Suppose you are a contestant on the popular game show *Let's Make a Deal*. The host of the show (Monty Hall) presents you with three doors - Door A, Door B, and Door C. He tells you that there is a sports car behind one of them and if you choose the correct one, you win the car!\n",
    "\n",
    "You select Door A, but then Monty makes things a little more interesting. He opens Door B to reveal that there is no sports car behind it and asks you if you would like to stick with your choice of Door A or switch your choice to Door C. Given this new information, what are the probabilities of you winning the car if you stick with Door A versus if you switch to Door C?"
   ]
  },
  {
   "cell_type": "code",
   "execution_count": 8,
   "metadata": {
    "ExecuteTime": {
     "end_time": "2020-03-23T12:41:50.160514Z",
     "start_time": "2020-03-23T12:41:50.154531Z"
    }
   },
   "outputs": [
    {
     "data": {
      "text/plain": [
       "array([0.33333333, 0.        , 0.66666667])"
      ]
     },
     "execution_count": 8,
     "metadata": {},
     "output_type": "execute_result"
    }
   ],
   "source": [
    "#prior probabilities\n",
    "priors = [1/3, 1/3, 1/3]\n",
    "\n",
    "#prior likelihoods\n",
    "likelihoods = [0.5, 0, 1]\n",
    "\n",
    "#Function will compute the marginal (marg) and then use Bayes' Theorem to calculate the posterior probabilities \n",
    "#for the each of the hypotheses (post):\n",
    "def bayes_theorem(priors, likelihoods):\n",
    "    marg = sum(np.multiply(priors, likelihoods))\n",
    "    return np.divide(np.multiply(priors, likelihoods), marg)\n",
    "\n",
    "bayes_theorem(priors, likelihoods)\n",
    "\n",
    "#From these results, we can see that there is a 33.3% chance that the car is under door A and \n",
    "#66.6% chance that it's under door C\n",
    "#it's better to switch the door"
   ]
  },
  {
   "cell_type": "markdown",
   "metadata": {},
   "source": [
    "## 4. Bayesian Analysis \n",
    "\n",
    "Suppose you work for a landscaping company, and they want to advertise their service online. They create an ad and sit back waiting for the money to roll in. On the first day, the ad sends 100 visitors to the site and 14 of them sign up for landscaping services. Create a generative model to come up with the posterior distribution and produce a visualization of what the posterior distribution would look like given the observed data."
   ]
  },
  {
   "cell_type": "code",
   "execution_count": 9,
   "metadata": {
    "ExecuteTime": {
     "end_time": "2020-03-23T12:41:50.291746Z",
     "start_time": "2020-03-23T12:41:50.161513Z"
    }
   },
   "outputs": [
    {
     "data": {
      "text/plain": [
       "<matplotlib.axes._subplots.AxesSubplot at 0x1c33ed87d08>"
      ]
     },
     "execution_count": 9,
     "metadata": {},
     "output_type": "execute_result"
    },
    {
     "data": {
      "image/png": "[encoded data removed]",
      "text/plain": [
       "<Figure size 432x288 with 1 Axes>"
      ]
     },
     "metadata": {
      "needs_background": "light"
     },
     "output_type": "display_data"
    }
   ],
   "source": [
    "#Prior to seeing any traffic or purchase data, we have no idea what to expect \n",
    "#so we will start with the assumption that all percentages are equally likely.\n",
    "\n",
    "n_draws = 10000\n",
    "prior = pd.Series(stats.uniform(0,1).rvs(n_draws))\n",
    "prior.hist(bins=20)"
   ]
  },
  {
   "cell_type": "code",
   "execution_count": 10,
   "metadata": {
    "ExecuteTime": {
     "end_time": "2020-03-23T12:41:50.296733Z",
     "start_time": "2020-03-23T12:41:50.292742Z"
    }
   },
   "outputs": [],
   "source": [
    "#We are going to record the number of sign ups in a variable called observed.\n",
    "\n",
    "observed = 14"
   ]
  },
  {
   "cell_type": "code",
   "execution_count": 11,
   "metadata": {
    "ExecuteTime": {
     "end_time": "2020-03-23T12:41:50.308701Z",
     "start_time": "2020-03-23T12:41:50.297729Z"
    }
   },
   "outputs": [
    {
     "data": {
      "text/plain": [
       "0.14"
      ]
     },
     "execution_count": 11,
     "metadata": {},
     "output_type": "execute_result"
    }
   ],
   "source": [
    "#We are going to create a generative model that will randomly draw from our prior uniform distribution, \n",
    "#simulate 100 people coming to our website a large number of time, \n",
    "#and see how many times we get a result that is in line with the result we have observed. \n",
    "\n",
    "#To do this in Python, we are going to define a generative_model function that accepts a random probability parameter \n",
    "#from our prior and then performs 100 binomial draws using that probability.\n",
    "\n",
    "param = 14/100\n",
    "param"
   ]
  },
  {
   "cell_type": "code",
   "execution_count": 12,
   "metadata": {
    "ExecuteTime": {
     "end_time": "2020-03-23T12:41:50.314684Z",
     "start_time": "2020-03-23T12:41:50.310695Z"
    }
   },
   "outputs": [],
   "source": [
    "def generative_model_np(param):\n",
    "        return np.random.binomial(100, param)"
   ]
  },
  {
   "cell_type": "code",
   "execution_count": 13,
   "metadata": {
    "ExecuteTime": {
     "end_time": "2020-03-23T12:41:50.478026Z",
     "start_time": "2020-03-23T12:41:50.316682Z"
    }
   },
   "outputs": [
    {
     "data": {
      "text/plain": [
       "<matplotlib.axes._subplots.AxesSubplot at 0x1c33f05aa08>"
      ]
     },
     "execution_count": 13,
     "metadata": {},
     "output_type": "execute_result"
    },
    {
     "data": {
      "image/png": "[encoded data removed]",
      "text/plain": [
       "<Figure size 432x288 with 1 Axes>"
      ]
     },
     "metadata": {
      "needs_background": "light"
     },
     "output_type": "display_data"
    }
   ],
   "source": [
    "#We are going to create an empty list that is going to contain our simulated results (sim_data) \n",
    "#and then populate it by appending the results when each value in our prior distribution is plugged into our \n",
    "#generative model.\n",
    "\n",
    "sim_data = prior.apply(lambda p: generative_model_np(p))\n",
    "sim_data.hist()"
   ]
  },
  {
   "cell_type": "code",
   "execution_count": 14,
   "metadata": {
    "ExecuteTime": {
     "end_time": "2020-03-23T12:41:50.603801Z",
     "start_time": "2020-03-23T12:41:50.479022Z"
    }
   },
   "outputs": [
    {
     "data": {
      "text/plain": [
       "<matplotlib.axes._subplots.AxesSubplot at 0x1c340158888>"
      ]
     },
     "execution_count": 14,
     "metadata": {},
     "output_type": "execute_result"
    },
    {
     "data": {
      "image/png": "[encoded data removed]",
      "text/plain": [
       "<Figure size 432x288 with 1 Axes>"
      ]
     },
     "metadata": {
      "needs_background": "light"
     },
     "output_type": "display_data"
    }
   ],
   "source": [
    "#Finally, we are going to arrive at our posterior distribution by selecting only the values from our prior distribution \n",
    "#that generated instances where the simulated result matched our observed result of 14 sign ups.\n",
    "\n",
    "posterior = prior[sim_data  == observed]\n",
    "posterior.hist()"
   ]
  },
  {
   "cell_type": "code",
   "execution_count": 15,
   "metadata": {
    "ExecuteTime": {
     "end_time": "2020-03-23T12:41:50.607789Z",
     "start_time": "2020-03-23T12:41:50.604808Z"
    }
   },
   "outputs": [],
   "source": [
    "#We can see just by looking at this that the updated probability of someone signing up is likely between 10% and 20% \n",
    "#and most likely somewhere between 12% and 15%."
   ]
  },
  {
   "cell_type": "markdown",
   "metadata": {},
   "source": [
    "Produce a set of descriptive statistics for the posterior distribution."
   ]
  },
  {
   "cell_type": "code",
   "execution_count": 16,
   "metadata": {
    "ExecuteTime": {
     "end_time": "2020-03-23T12:41:50.626740Z",
     "start_time": "2020-03-23T12:41:50.608838Z"
    }
   },
   "outputs": [
    {
     "data": {
      "text/plain": [
       "count    108.000000\n",
       "mean       0.152162\n",
       "std        0.037767\n",
       "min        0.079986\n",
       "25%        0.123686\n",
       "50%        0.147245\n",
       "75%        0.171943\n",
       "max        0.242514\n",
       "dtype: float64"
      ]
     },
     "execution_count": 16,
     "metadata": {},
     "output_type": "execute_result"
    }
   ],
   "source": [
    "posterior.describe()"
   ]
  },
  {
   "cell_type": "markdown",
   "metadata": {},
   "source": [
    "What is the 90% credible interval range?"
   ]
  },
  {
   "cell_type": "code",
   "execution_count": 17,
   "metadata": {
    "ExecuteTime": {
     "end_time": "2020-03-23T12:41:50.636719Z",
     "start_time": "2020-03-23T12:41:50.627738Z"
    }
   },
   "outputs": [
    {
     "name": "stdout",
     "output_type": "stream",
     "text": [
      "0.08840255442813387 | 0.23832884203077181\n"
     ]
    }
   ],
   "source": [
    "print(posterior.quantile(.025), '|', posterior.quantile(.975))"
   ]
  },
  {
   "cell_type": "markdown",
   "metadata": {},
   "source": [
    "What is the Maximum Likelihood Estimate?"
   ]
  },
  {
   "cell_type": "code",
   "execution_count": 18,
   "metadata": {
    "ExecuteTime": {
     "end_time": "2020-03-23T12:41:50.644692Z",
     "start_time": "2020-03-23T12:41:50.638708Z"
    }
   },
   "outputs": [
    {
     "name": "stdout",
     "output_type": "stream",
     "text": [
      "Maximum Likelihood Estimate:  0.14 | 0.12962962962962962\n"
     ]
    }
   ],
   "source": [
    "rounded = posterior.round(2)\n",
    "mode = rounded.mode()[0]\n",
    "probability = list(rounded).count(mode)/len(rounded)\n",
    "print('Maximum Likelihood Estimate: ', mode, '|',probability)"
   ]
  }
 ],
 "metadata": {
  "kernelspec": {
   "display_name": "Python 3",
   "language": "python",
   "name": "python3"
  },
  "language_info": {
   "codemirror_mode": {
    "name": "ipython",
    "version": 3
   },
   "file_extension": ".py",
   "mimetype": "text/x-python",
   "name": "python",
   "nbconvert_exporter": "python",
   "pygments_lexer": "ipython3",
   "version": "3.7.4"
  },
  "toc": {
   "base_numbering": 1,
   "nav_menu": {},
   "number_sections": true,
   "sideBar": true,
   "skip_h1_title": false,
   "title_cell": "Table of Contents",
   "title_sidebar": "Contents",
   "toc_cell": false,
   "toc_position": {},
   "toc_section_display": true,
   "toc_window_display": false
  },
  "varInspector": {
   "cols": {
    "lenName": 16,
    "lenType": 16,
    "lenVar": 40
   },
   "kernels_config": {
    "python": {
     "delete_cmd_postfix": "",
     "delete_cmd_prefix": "del ",
     "library": "var_list.py",
     "varRefreshCmd": "print(var_dic_list())"
    },
    "r": {
     "delete_cmd_postfix": ") ",
     "delete_cmd_prefix": "rm(",
     "library": "var_list.r",
     "varRefreshCmd": "cat(var_dic_list()) "
    }
   },
   "types_to_exclude": [
    "module",
    "function",
    "builtin_function_or_method",
    "instance",
    "_Feature"
   ],
   "window_display": false
  }
 },
 "nbformat": 4,
 "nbformat_minor": 2
}
